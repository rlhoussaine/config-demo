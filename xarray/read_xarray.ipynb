{
 "cells": [
  {
   "cell_type": "code",
   "execution_count": null,
   "id": "ecceb31a",
   "metadata": {},
   "outputs": [],
   "source": [
    "import xarray as xr\n",
    "\n",
    "# Lire le fichier NetCDF\n",
    "dataset = xr.open_dataset(\"temperature_data.nc\")\n",
    "\n",
    "# Afficher les informations du Dataset\n",
    "print(dataset)\n",
    "\n",
    "# Accéder aux données de température\n",
    "temperature = dataset[\"temperature\"]\n",
    "\n",
    "# Afficher les données de température\n",
    "print(temperature)\n"
   ]
  }
 ],
 "metadata": {
  "kernelspec": {
   "display_name": "base",
   "language": "python",
   "name": "python3"
  },
  "language_info": {
   "codemirror_mode": {
    "name": "ipython",
    "version": 3
   },
   "file_extension": ".py",
   "mimetype": "text/x-python",
   "name": "python",
   "nbconvert_exporter": "python",
   "pygments_lexer": "ipython3",
   "version": "3.13.0"
  }
 },
 "nbformat": 4,
 "nbformat_minor": 5
}
