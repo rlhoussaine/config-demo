{
 "cells": [
  {
   "cell_type": "code",
   "execution_count": 1,
   "id": "82dddad6",
   "metadata": {},
   "outputs": [],
   "source": [
    "from pydantic import BaseModel, ValidationError\n",
    "import json"
   ]
  },
  {
   "cell_type": "code",
   "execution_count": 2,
   "id": "9ecc13f2",
   "metadata": {},
   "outputs": [
    {
     "name": "stdout",
     "output_type": "stream",
     "text": [
      "Configuration is valid!\n"
     ]
    }
   ],
   "source": [
    "\n",
    "class GeneralSettings(BaseModel):\n",
    "    app_name: str\n",
    "    version: str\n",
    "    debug: bool\n",
    "\n",
    "class DatabaseSettings(BaseModel):\n",
    "    host: str\n",
    "    port: int\n",
    "    username: str\n",
    "    password: str\n",
    "    database: str\n",
    "\n",
    "class LoggingSettings(BaseModel):\n",
    "    level: str\n",
    "    file: str\n",
    "    max_size: str\n",
    "    backup_count: int\n",
    "\n",
    "class FeaturesSettings(BaseModel):\n",
    "    feature_1: bool\n",
    "    feature_2: bool\n",
    "    feature_3: bool\n",
    "\n",
    "class PathsSettings(BaseModel):\n",
    "    data_dir: str\n",
    "    temp_dir: str\n",
    "    log_dir: str\n",
    "\n",
    "class Config(BaseModel):\n",
    "    General: GeneralSettings\n",
    "    Database: DatabaseSettings\n",
    "    Logging: LoggingSettings\n",
    "    Features: FeaturesSettings\n",
    "    Paths: PathsSettings\n",
    "\n",
    "def validate_config(file_path):\n",
    "    with open(file_path, 'r') as file:\n",
    "        config_data = json.load(file)\n",
    "\n",
    "    try:\n",
    "        config = Config(**config_data)\n",
    "        print(\"Configuration is valid!\")\n",
    "        return config\n",
    "    except ValidationError as e:\n",
    "        print(\"Configuration validation error:\", e)\n",
    "\n",
    "# Exemple d'utilisation\n",
    "config = validate_config('config.json')\n"
   ]
  },
  {
   "cell_type": "code",
   "execution_count": 3,
   "id": "ee257771",
   "metadata": {},
   "outputs": [
    {
     "name": "stdout",
     "output_type": "stream",
     "text": [
      "\n",
      "[General]\n",
      "app_name = MyDynamicApp\n",
      "version = 1.1.0\n",
      "debug = True\n",
      "\n",
      "[Database]\n",
      "host = localhost\n",
      "port = 5432\n",
      "username = admin\n",
      "password = secret\n",
      "database = mydynamicdb\n"
     ]
    }
   ],
   "source": [
    "from jinja2 import Template\n",
    "\n",
    "template_str = \"\"\"\n",
    "[General]\n",
    "app_name = {{ app_name }}\n",
    "version = {{ version }}\n",
    "debug = {{ debug }}\n",
    "\n",
    "[Database]\n",
    "host = {{ db_host }}\n",
    "port = {{ db_port }}\n",
    "username = {{ db_username }}\n",
    "password = {{ db_password }}\n",
    "database = {{ db_name }}\n",
    "\"\"\"\n",
    "\n",
    "def generate_config(template_str, context):\n",
    "    template = Template(template_str)\n",
    "    config_content = template.render(context)\n",
    "    return config_content\n",
    "\n",
    "# Contexte pour générer le fichier de configuration\n",
    "context = {\n",
    "    \"app_name\": \"MyDynamicApp\",\n",
    "    \"version\": \"1.1.0\",\n",
    "    \"debug\": True,\n",
    "    \"db_host\": \"localhost\",\n",
    "    \"db_port\": 5432,\n",
    "    \"db_username\": \"admin\",\n",
    "    \"db_password\": \"secret\",\n",
    "    \"db_name\": \"mydynamicdb\"\n",
    "}\n",
    "\n",
    "# Générer le contenu du fichier de configuration\n",
    "config_content = generate_config(template_str, context)\n",
    "print(config_content)\n"
   ]
  },
  {
   "cell_type": "code",
   "execution_count": null,
   "id": "cdad0cd6",
   "metadata": {},
   "outputs": [],
   "source": []
  }
 ],
 "metadata": {
  "kernelspec": {
   "display_name": "base",
   "language": "python",
   "name": "python3"
  },
  "language_info": {
   "codemirror_mode": {
    "name": "ipython",
    "version": 3
   },
   "file_extension": ".py",
   "mimetype": "text/x-python",
   "name": "python",
   "nbconvert_exporter": "python",
   "pygments_lexer": "ipython3",
   "version": "3.13.0"
  }
 },
 "nbformat": 4,
 "nbformat_minor": 5
}
