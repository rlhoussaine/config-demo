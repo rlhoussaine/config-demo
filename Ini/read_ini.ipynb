{
 "cells": [
  {
   "cell_type": "code",
   "execution_count": 1,
   "id": "43b7b0e4",
   "metadata": {},
   "outputs": [],
   "source": [
    "import configparser"
   ]
  },
  {
   "cell_type": "code",
   "execution_count": 2,
   "id": "d321896f",
   "metadata": {},
   "outputs": [],
   "source": [
    "file_path = 'config.ini'"
   ]
  },
  {
   "cell_type": "code",
   "execution_count": 4,
   "id": "ab183f58",
   "metadata": {},
   "outputs": [
    {
     "name": "stdout",
     "output_type": "stream",
     "text": [
      "General Settings:\n",
      "  App Name: MyApplication\n",
      "  Version: 1.0.0\n",
      "  Debug: True\n",
      "\n",
      "Database Settings:\n",
      "  Host: localhost\n",
      "  Port: 5432\n",
      "  Username: admin\n",
      "  Password: secret\n",
      "  Database: mydb\n",
      "\n",
      "Logging Settings:\n",
      "  Level: INFO\n",
      "  File: app.log\n",
      "  Max Size: 10MB\n",
      "  Backup Count: 5\n",
      "\n",
      "Features:\n",
      "  feature_1: True\n",
      "  feature_2: False\n",
      "  feature_3: True\n",
      "\n",
      "Paths:\n",
      "  Data Directory: /var/data\n",
      "  Temp Directory: /tmp\n",
      "  Log Directory: /var/log/myapp\n"
     ]
    }
   ],
   "source": [
    "\n",
    "def parse_config(file_path):\n",
    "    config = configparser.ConfigParser()\n",
    "    config.read(file_path)\n",
    "\n",
    "    # Parser les sections et les valeurs\n",
    "    general = config['General']\n",
    "    database = config['Database']\n",
    "    logging = config['Logging']\n",
    "    features = config['Features']\n",
    "    paths = config['Paths']\n",
    "\n",
    "    # Afficher les valeurs\n",
    "    print(\"General Settings:\")\n",
    "    print(f\"  App Name: {general['app_name']}\")\n",
    "    print(f\"  Version: {general['version']}\")\n",
    "    print(f\"  Debug: {general.getboolean('debug')}\")\n",
    "\n",
    "    print(\"\\nDatabase Settings:\")\n",
    "    print(f\"  Host: {database['host']}\")\n",
    "    print(f\"  Port: {database['port']}\")\n",
    "    print(f\"  Username: {database['username']}\")\n",
    "    print(f\"  Password: {database['password']}\")\n",
    "    print(f\"  Database: {database['database']}\")\n",
    "\n",
    "    print(\"\\nLogging Settings:\")\n",
    "    print(f\"  Level: {logging['level']}\")\n",
    "    print(f\"  File: {logging['file']}\")\n",
    "    print(f\"  Max Size: {logging['max_size']}\")\n",
    "    print(f\"  Backup Count: {logging['backup_count']}\")\n",
    "\n",
    "    print(\"\\nFeatures:\")\n",
    "    for feature in features:\n",
    "        print(f\"  {feature}: {features.getboolean(feature)}\")\n",
    "\n",
    "    print(\"\\nPaths:\")\n",
    "    print(f\"  Data Directory: {paths['data_dir']}\")\n",
    "    print(f\"  Temp Directory: {paths['temp_dir']}\")\n",
    "    print(f\"  Log Directory: {paths['log_dir']}\")\n",
    "\n",
    "# Exemple d'utilisation\n",
    "parse_config('config.ini')\n"
   ]
  },
  {
   "cell_type": "code",
   "execution_count": null,
   "id": "5e925429",
   "metadata": {},
   "outputs": [],
   "source": []
  }
 ],
 "metadata": {
  "kernelspec": {
   "display_name": "base",
   "language": "python",
   "name": "python3"
  },
  "language_info": {
   "codemirror_mode": {
    "name": "ipython",
    "version": 3
   },
   "file_extension": ".py",
   "mimetype": "text/x-python",
   "name": "python",
   "nbconvert_exporter": "python",
   "pygments_lexer": "ipython3",
   "version": "3.13.0"
  }
 },
 "nbformat": 4,
 "nbformat_minor": 5
}
